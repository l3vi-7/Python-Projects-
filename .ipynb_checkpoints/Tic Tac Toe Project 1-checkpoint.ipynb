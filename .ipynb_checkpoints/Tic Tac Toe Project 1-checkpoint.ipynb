{
 "cells": [
  {
   "cell_type": "code",
   "execution_count": 1,
   "metadata": {},
   "outputs": [
    {
     "name": "stdout",
     "output_type": "stream",
     "text": [
      "Player 1 -> X \n",
      "Player 2 -> O\n",
      "__|__|__\n",
      "__|__|__\n",
      "  |  |\n",
      "Player 1's turn :\n",
      "Input position :\n",
      "0\n",
      "------------------------\n",
      "X - - \n",
      "- - - \n",
      "- - - \n",
      "------------------------\n",
      "Player 2's turn :\n",
      "Input position :\n",
      "2\n",
      "------------------------\n",
      "X - O \n",
      "- - - \n",
      "- - - \n",
      "------------------------\n",
      "Player 1's turn :\n",
      "Input position :\n",
      "8\n",
      "------------------------\n",
      "X - O \n",
      "- - - \n",
      "- - X \n",
      "------------------------\n",
      "Player 2's turn :\n",
      "Input position :\n",
      "6\n",
      "------------------------\n",
      "X - O \n",
      "- - - \n",
      "O - X \n",
      "------------------------\n",
      "Player 1's turn :\n",
      "Input position :\n",
      "4\n",
      "------------------------\n",
      "X - O \n",
      "- X - \n",
      "O - X \n",
      "------------------------\n",
      "*********Player 1 Wins*********\n"
     ]
    }
   ],
   "source": [
    "def tictacoe (t,p,i):\n",
    "    if p==1:\n",
    "        if 0<=i<=2:\n",
    "            t[0][i]=\"X\"\n",
    "        if i>2 and i<6:\n",
    "            t[1][i-3]=\"X\"\n",
    "        if i>5 and i<9:\n",
    "            t[2][i-6]=\"X\"\n",
    "    else:\n",
    "        if 0<=i<=2:\n",
    "            t[0][i]=\"O\"\n",
    "        elif 3<=i<=5:\n",
    "            t[1][i-3]=\"O\"\n",
    "        else:\n",
    "            t[2][i-6]=\"O\"\n",
    "    print(\"------------------------\")\n",
    "    for k in range(0,3):\n",
    "        for j in range (0,3):\n",
    "            print (t[k][j],end=\" \")\n",
    "        print(\"\")\n",
    "    print(\"------------------------\")\n",
    "    for k in range (0,3):\n",
    "        if t[k][0]==t[k][1]==t[k][2]==\"X\" or t[0][k]==t[1][k]==t[2][k]==\"X\"  :\n",
    "            return 1\n",
    "        elif t[k][0]==t[k][1]==t[k][2]==\"0\" or t[0][k]==t[1][k]==t[2][k]==\"0\":\n",
    "            return 2\n",
    "    else :\n",
    "            if t[0][0]==t[1][1]==t[2][2]==\"X\":\n",
    "                return 1\n",
    "            elif t[0][0]==t[1][1]==t[2][2]==\"O\":\n",
    "                return 2\n",
    "            else:\n",
    "                return None\n",
    "        \n",
    "print(\"Player 1 -> X \\nPlayer 2 -> O\")\n",
    "print(\"__|__|__\\n__|__|__\\n  |  |\")\n",
    "tictac=[[\"-\",\"-\",\"-\"],[\"-\",\"-\",\"-\"],[\"-\",\"-\",\"-\"]]\n",
    "for i in range (0,9):\n",
    "    if i%2==0:\n",
    "        print(\"Player 1's turn :\")\n",
    "        print(\"Input position :\")\n",
    "        p=int(input())\n",
    "        c=1\n",
    "        \n",
    "    else:\n",
    "        print(\"Player 2's turn :\")\n",
    "        print(\"Input position :\")\n",
    "        p=int(input())\n",
    "        c=2\n",
    "    check=tictacoe (tictac,c,p)\n",
    "    if check==1:\n",
    "        print(\"*********Player 1 Wins*********\")\n",
    "        break\n",
    "    elif check==2:\n",
    "        print(\"*********Player 2 Wins*********\")\n",
    "        break\n",
    "else :\n",
    "        print(\"Tie\")\n",
    "    "
   ]
  },
  {
   "cell_type": "code",
   "execution_count": 8,
   "metadata": {},
   "outputs": [
    {
     "data": {
      "text/plain": [
       "False"
      ]
     },
     "execution_count": 8,
     "metadata": {},
     "output_type": "execute_result"
    }
   ],
   "source": []
  },
  {
   "cell_type": "code",
   "execution_count": 17,
   "metadata": {},
   "outputs": [
    {
     "ename": "SyntaxError",
     "evalue": "'return' outside function (<ipython-input-17-2b305f29d40e>, line 3)",
     "output_type": "error",
     "traceback": [
      "\u001b[1;36m  File \u001b[1;32m\"<ipython-input-17-2b305f29d40e>\"\u001b[1;36m, line \u001b[1;32m3\u001b[0m\n\u001b[1;33m    return 1\u001b[0m\n\u001b[1;37m    ^\u001b[0m\n\u001b[1;31mSyntaxError\u001b[0m\u001b[1;31m:\u001b[0m 'return' outside function\n"
     ]
    }
   ],
   "source": []
  },
  {
   "cell_type": "code",
   "execution_count": 29,
   "metadata": {},
   "outputs": [
    {
     "data": {
      "text/plain": [
       "'X'"
      ]
     },
     "execution_count": 29,
     "metadata": {},
     "output_type": "execute_result"
    }
   ],
   "source": [
    "tictac[0][2]"
   ]
  },
  {
   "cell_type": "code",
   "execution_count": null,
   "metadata": {},
   "outputs": [],
   "source": []
  }
 ],
 "metadata": {
  "kernelspec": {
   "display_name": "Python 3",
   "language": "python",
   "name": "python3"
  },
  "language_info": {
   "codemirror_mode": {
    "name": "ipython",
    "version": 3
   },
   "file_extension": ".py",
   "mimetype": "text/x-python",
   "name": "python",
   "nbconvert_exporter": "python",
   "pygments_lexer": "ipython3",
   "version": "3.6.5"
  }
 },
 "nbformat": 4,
 "nbformat_minor": 2
}
